{
 "cells": [
  {
   "cell_type": "markdown",
   "metadata": {},
   "source": [
    "# Theoretical concepts of single particle tracking (SPT): an introduction for biologists.\n",
    "#### François Peaudecerf; Margit Peaudecerf\n",
    "#### 24/02/2021\n",
    "\n",
    "\n",
    "\n",
    "## Random walks and the Stokes-Einstein equation\n",
    "\n",
    "Particles suspended in fluid exhibit random motion caused by thermal agitation, independently of any fluid flows. In a viscous fluid the magnitude of this random walk - the diffusivity - is described in the Stokes-Einstein equation as  \n",
    "\n",
    "$$ D = \\frac{k_\\mathrm{B} T}{6 \\pi \\mu a} $$\n",
    "\n",
    "with $D$ the **Brownian diffusivity**, $k_\\mathrm{B}$ the **Boltzmann constant**, $T$ the absolute __temperature__ of the fluid, $\\mu$ the dynamic __viscosity__ of the fluid, and $a$ the __radius of the particle__ . Implications of the Stokes-Einstein relation are: \n",
    "* Particles will exhibit random motion at any temperature above absolute zero\n",
    "* Particle diffusivity will decrease with particle radius and fluid viscosity, and increase with temperature (though since we are looking at absolute temperature biologically relevant temperature changes will have a minimal effect).\n",
    "\n",
    "\n",
    "\n",
    "Macroscopically, a population of particles randomly diffusing within a fluid results in diffusive mixing and net-fluxes along concentration gradients. However, SPT follows the displacement of individual particles, and as molecular diffusion within a homogeneous environment is random the net displacement of each single particle averages zero: let's consider a particle randomly diffusing in one dimension. This particle is equally likely to move in each direction from its starting point. Therefore over time the sum of its displacements $\\Delta x$ (in 2D $\\Delta r$) will equal zero: \n",
    " \n",
    "<img src=\"images/RandomDisplacement.png\" alt=\"Drawing\" style=\"width: 700px;\"/>\n",
    "\n",
    "\n",
    "However, with more time this particle random motion explores further regions. Thus, in order to quantify the space explored by a diffusing particle over time, the square of the displacement $\\Delta x^2$ (in 2D $\\Delta r^2$) is the variable of choice. As for all random processes, patterns can only emerge by averaging a significant number of events, therefore the average displacement over time - mean square displacement (MSD) - is calculated: we consider a particle randomly walking in one dimension. We observe particle positions with time $x_t$ at intervals of 1s, so that x<sub>t</sub><sub>1</sub> is the particle position at 1s, x<sub>t</sub><sub>2</sub> the particle position at 2s, etc: \n",
    "\n",
    "<img src=\"images/particles1.png\" alt=\"Drawing\" style=\"width: 700px;\"/>\n",
    "\n",
    "\n",
    "The MSD, noted $ \\langle \\Delta x^2 \\rangle$, can be calculated either as a **time average**, by averaging particle displacements within all 1s intervalls of the trajectory, then particle displacement within all 2s intervalls, etc over the trajectory of a single particle \n",
    "\n",
    "$$ \\langle \\Delta x^2 \\rangle = <[x_{(t+\\Delta_t)}-x_{(t)}]^2> ,$$\n",
    "\n",
    "or as an **ensemble average**, by averaging particle displacements within the first 1s, the first 2s, etc. of multiple trajectories \n",
    "\n",
    "$$ \\langle \\Delta x^2 \\rangle = <[x_{(t)}-x_{(t_0)}]^2> ,$$\n",
    "\n",
    "or often a combination of the two, with $\\Delta_t$ the time interval (or lag time) between particle positions.\n",
    "The mean square displacement of a particle moving randomly with Brownian motion scales linearly</font> with diffusivity $D$ and lag time $\\Delta_t$. For one dimension, the MSD follows\n",
    "\n",
    "$$ \\langle \\Delta x^2 \\rangle = 2D \\Delta_t ,$$\n",
    "\n",
    "and for diffusion in two dimensions it reads\n",
    "\n",
    "$$ \\langle \\Delta r^2 \\rangle = 4D \\Delta_t .$$\n",
    "\n"
   ]
  },
  {
   "cell_type": "markdown",
   "metadata": {},
   "source": [
    "\n",
    "## Simulation of 2D Brownian motion\n",
    "\n",
    "\n",
    "We simulate single particle motion in a homogeneous fluid at thermal equilibrium. The parameters of the simulation are the following:\n",
    "\n",
    "* __Radius of the particle__ $a$, in microns;\n",
    "* __Temperature__ of the fluid $T$, fixed at 308K (35C);\n",
    "* Dynamic __viscosity__ of the fluid $\\mu$, in Pa s. As an example: at 20C water has a viscosity of $\\mu = 10^{-3}$ Pa s while glycerol has a viscosity of $\\mu = 1$ Pa s.\n",
    "\n",
    "From these parameters, one can derive the **Brownian diffusivity** $D$ associated to these particles in this fluid, thanks to the **Stokes-Einstein equation** above. \n",
    "\n",
    "We will use a variety of Python tools both in the notebook and in the functions we built to simulate random motion (see file random_walkers.py in repository). These libraries and packages are:\n",
    "* [Numpy](https://numpy.org/) for maths\n",
    "* [Matplotlib](https://matplotlib.org/3.3.3/index.html) for plotting\n",
    "* [Ipywidgets](https://ipywidgets.readthedocs.io/en/stable/) to use interactive IPython widgets\n",
    "* [Pandas](https://pandas.pydata.org/) as a tool for data analysis\n",
    "* [Trackpy](http://soft-matter.github.io/trackpy/v0.4.2/) which offers tracking tools and track-analysis function which we will use\n",
    "* [Scipy](https://www.scipy.org/) for some statistical tools\n",
    "\n",
    "We will start by importing some of them for use in this notebook:"
   ]
  },
  {
   "cell_type": "code",
   "execution_count": 1,
   "metadata": {},
   "outputs": [],
   "source": [
    "%matplotlib inline\n",
    "import numpy as np\n",
    "import matplotlib.pyplot as plt\n",
    "# IPython tools\n",
    "from IPython.display import display\n",
    "from IPython.display import Video\n",
    "from IPython.display import HTML\n",
    "from ipywidgets import interact, interactive_output, FloatSlider,IntSlider, HBox, VBox\n",
    "import ipywidgets as widgets\n",
    "\n",
    "# we import our random walker functions\n",
    "from random_walkers import *"
   ]
  },
  {
   "cell_type": "markdown",
   "metadata": {},
   "source": [
    "\n",
    "### 1. Example track"
   ]
  },
  {
   "cell_type": "markdown",
   "metadata": {},
   "source": [
    "In most of the simulations, we consider a number $N$ of particles. For each incremental timestep $dt$, each of these particles receives a random \"kick\" from the surrounding agitation of fluid molecules by temperature, creating a infinitesimal displacement scaling with diffusivity $D$. We first build a function <font color='red'>`generate_diff_track`</font> that does just that, taking as input an initial position in space $x_0$ and $y_0$ - parameter `pos0` below -, a chosen diffusivity `D`, an incremental timestep of simulation `dt` over which we want to compute individual kicks, and the total time `tf` of simulation.\n",
    "\n",
    "We can see an example of generated track as an array after choosing test parameter values:"
   ]
  },
  {
   "cell_type": "code",
   "execution_count": 2,
   "metadata": {
    "scrolled": false
   },
   "outputs": [
    {
     "name": "stdout",
     "output_type": "stream",
     "text": [
      "x(t) = [ 0.          0.29312622 -0.79605967  0.74737001  2.46190423  2.62357798\n",
      "  2.15822917  2.18507941  1.35611941  2.98341968  4.35288034  3.57991555\n",
      "  1.772965    0.80222825 -0.49980679  0.47114534  0.90782974  1.70056978\n",
      "  0.72674858  0.7439158  -0.42038441]\n",
      "y(t) = [0.         2.12331983 3.82208015 4.56435124 5.2382389  6.85542138\n",
      " 5.90496402 7.07965204 8.2577044  9.27972144 7.62692459 8.00498969\n",
      " 8.35281999 6.76441951 6.46168701 5.53715277 3.76241855 4.69858731\n",
      " 4.08532304 3.12683756 3.81225709]\n"
     ]
    }
   ],
   "source": [
    "pos0 = [0,0] # [m]\n",
    "D = 1e-10     # [m2/s] \n",
    "dt = 1e-2    # [s]\n",
    "tf = 0.2       # [s]\n",
    "test_track = generate_diff_track(pos0, D, dt, tf)*1e6 # to convert to microns, generate_diff_track return results in m\n",
    "print('x(t) =', test_track[0,:])\n",
    "print('y(t) =', test_track[1,:])"
   ]
  },
  {
   "cell_type": "markdown",
   "metadata": {},
   "source": [
    "It is easier to see how different parameters play a role in shaping these tracks if we plot them. Here is a visualisation of our example track above, with the initial position as a white circle, and the end position as a magenta circle:"
   ]
  },
  {
   "cell_type": "code",
   "execution_count": 3,
   "metadata": {},
   "outputs": [
    {
     "data": {
      "image/png": "[encoded data removed]",
      "text/plain": [
       "<Figure size 432x288 with 1 Axes>"
      ]
     },
     "metadata": {
      "needs_background": "light"
     },
     "output_type": "display_data"
    }
   ],
   "source": [
    "fig, ax = plt.subplots()\n",
    "ax.plot(test_track[0,:],test_track[1,:], color = 'k', alpha = 0.5, marker='o')\n",
    "ax.plot(test_track[0,-1],test_track[1,-1],marker='o', ms=6, markerfacecolor = 'm', markeredgecolor = 'k')\n",
    "ax.plot(0,0,marker='o', ms=6, markerfacecolor = 'w', markeredgecolor = 'k')\n",
    "\n",
    "ax.set_xlabel(r'$x$ ($\\mu$m)')\n",
    "ax.set_ylabel(r'$y$ ($\\mu$m)')\n",
    "    \n",
    "plt.show()"
   ]
  },
  {
   "cell_type": "markdown",
   "metadata": {},
   "source": [
    "\n",
    "### 2. Distribution of displacements"
   ]
  },
  {
   "cell_type": "markdown",
   "metadata": {},
   "source": [
    "To visualise the randomness of these trajectories, let's generate a few tracks and look at the distribution of their displacements."
   ]
  },
  {
   "cell_type": "code",
   "execution_count": 4,
   "metadata": {},
   "outputs": [
    {
     "data": {
      "application/vnd.jupyter.widget-view+json": {
       "model_id": "a042030110c148e2b4acd9d6a634b095",
       "version_major": 2,
       "version_minor": 0
      },
      "text/plain": [
       "HBox(children=(VBox(children=(IntSlider(value=1, description='number part. $N$', max=50, min=1, style=SliderSt…"
      ]
     },
     "metadata": {},
     "output_type": "display_data"
    },
    {
     "data": {
      "application/vnd.jupyter.widget-view+json": {
       "model_id": "84dda0c6e1504491a92ae7a44549a2cb",
       "version_major": 2,
       "version_minor": 0
      },
      "text/plain": [
       "Output()"
      ]
     },
     "metadata": {},
     "output_type": "display_data"
    }
   ],
   "source": [
    "# Creation of buttons and sliders\n",
    "style = {'description_width': 'initial'}\n",
    "N_s = widgets.IntSlider(description = 'number part. $N$', style = style, min=1, max=50, step=1, value=1)\n",
    "D_s = widgets.FloatSlider(description = 'Diffusivity $D$ ($\\mu$m$^2$s$^{-1}$)', style = style, min=0.01, max=5, step=0.01, value=2.0)\n",
    "Tf_s = widgets.FloatSlider(description = 'duration $t_\\mathrm{f}$ (s)', style = style, min=0.1, max=10, step=0.1, value=1)\n",
    "ax_lim_s = widgets.FloatSlider(description = 'axes size ($\\mu$m)', style = style, min=0.1, max=10, step=0.1, value=5)\n",
    "deltaX_show_b = widgets.ToggleButton(value=False,description='Show displacements',disabled=False,button_style='',tooltip='Description',icon='')\n",
    "refresh_b = widgets.ToggleButton(value=False,description='Refresh',disabled=False,button_style='success', tooltip='Description',icon='')\n",
    "logscale_b = widgets.ToggleButton(value=False,description='deltaX Log scale',disabled=False,button_style='', tooltip='Description',icon='')\n",
    "\n",
    "# We organise them spatially\n",
    "left_box = VBox([N_s,D_s, Tf_s])\n",
    "right_box = VBox([ax_lim_s, deltaX_show_b, refresh_b, logscale_b])\n",
    "widgets_box = HBox([left_box, right_box])\n",
    "\n",
    "# Launch the plot and display with buttoms/sliders\n",
    "out = interactive_output(plot_tracks_deltaX, {'N': N_s, 'D': D_s, 'Tf': Tf_s, 'ax_lim':ax_lim_s, 'deltaX_show':deltaX_show_b, 'refresh':refresh_b, 'log_scale':logscale_b})\n",
    "display(widgets_box, out)"
   ]
  },
  {
   "cell_type": "markdown",
   "metadata": {},
   "source": [
    "The graph on the right shows a histogram of displacement distribution. The distribution shows a Gaussian profile, symmetric and centered on 0, as the displacements are random and therefore average 0. The variance increases with $\\Delta_t$, and scales with the diffusivity D. Gaussian fit improves with increasing $N$ and $t_f$."
   ]
  },
  {
   "cell_type": "markdown",
   "metadata": {},
   "source": [
    "\n",
    "### 3. Mean square displacement (MSD) in unbounded case"
   ]
  },
  {
   "cell_type": "markdown",
   "metadata": {},
   "source": [
    "We now create an interactive function to better visualize the influence of different physical parameters on Brownian diffusivity of particles, and their mean square displacements."
   ]
  },
  {
   "cell_type": "code",
   "execution_count": 5,
   "metadata": {
    "scrolled": false
   },
   "outputs": [
    {
     "data": {
      "application/vnd.jupyter.widget-view+json": {
       "model_id": "d476abb3e5a048c295a0756d9f4985ff",
       "version_major": 2,
       "version_minor": 0
      },
      "text/plain": [
       "HBox(children=(VBox(children=(IntSlider(value=1, description='number part. $N$', max=50, min=1, style=SliderSt…"
      ]
     },
     "metadata": {},
     "output_type": "display_data"
    },
    {
     "data": {
      "application/vnd.jupyter.widget-view+json": {
       "model_id": "d43868724a0a43b1b3aacca91d7fb007",
       "version_major": 2,
       "version_minor": 0
      },
      "text/plain": [
       "Output()"
      ]
     },
     "metadata": {},
     "output_type": "display_data"
    }
   ],
   "source": [
    "# Creation of buttons and sliders\n",
    "style = {'description_width': 'initial'}\n",
    "N_s = widgets.IntSlider(description = 'number part. $N$', style = style, min=1, max=50, step=1, value=1)\n",
    "a_s = widgets.FloatSlider(description = 'radius $a$ ($\\mu$m)', style = style, min=0.02, max=1, step=0.02, value=0.2)\n",
    "logmu_s = widgets.IntSlider(description = ' $\\log(\\mu)$ (log(Pa s))', style = style, min=-3, max=0, step=1, value=-3)\n",
    "Tf_s = widgets.FloatSlider(description = 'duration $t_\\mathrm{f}$ (s)', style = style, min=0.1, max=10, step=0.1, value=1)\n",
    "ax_lim_s = widgets.FloatSlider(description = 'axes size ($\\mu$m)', style = style, min=0.1, max=15, step=0.1, value=4)\n",
    "MSD_show_b = widgets.ToggleButton(value=False,description='Show MSDs',disabled=False,button_style='',tooltip='Description',icon='')\n",
    "refresh_b = widgets.ToggleButton(value=False,description='Refresh',disabled=False,button_style='success', tooltip='Description',icon='')\n",
    "logscale_b = widgets.ToggleButton(value=False,description='MSD Log scale',disabled=False,button_style='', tooltip='Description',icon='')\n",
    "\n",
    "# We organise them spatially\n",
    "left_box = VBox([N_s,a_s,logmu_s, Tf_s])\n",
    "right_box = VBox([ax_lim_s, MSD_show_b, refresh_b, logscale_b])\n",
    "widgets_box = HBox([left_box, right_box])\n",
    "\n",
    "# Launch the plot and display with buttoms/sliders\n",
    "out = interactive_output(plot_tracks_MSD, {'N': N_s, 'a': a_s, 'logmu': logmu_s, 'Tf': Tf_s, 'ax_lim':ax_lim_s, 'MSD_show':MSD_show_b, 'refresh':refresh_b, 'log_scale':logscale_b})\n",
    "display(widgets_box, out)"
   ]
  },
  {
   "cell_type": "markdown",
   "metadata": {},
   "source": [
    "The equation \n",
    "\n",
    "$$ \\langle \\Delta r^2 \\rangle=4D \\Delta t .$$\n",
    "\n",
    "allows extraction of diffusivity from experimental data as the slope of the linear fit of MSD curves, and if particle size is known, the viscosity experienced by the particles can be obtained using the Stokes-Einstein equation. Ensemble average and the associated fitted power law approach the theoretical power law with increasing $N$ and $t_f$, illustrating the need for a significant number of datapoints in order to obtain accurate values for diffusivity. "
   ]
  },
  {
   "cell_type": "markdown",
   "metadata": {},
   "source": [
    "### 4. Particle displacement and SPT in living cells \n",
    "\n",
    "\n",
    "The cytoplasm of living cells is a complex environment in which particle displacement is affected by multiple factors, such as active diffusion, corralling of particles, or active transport processes (see below). While this complicates diffusion analysis significantly, at the same time it renders SPT a powerful tool for investigating these factors. \n",
    "Particle displacement in living cells differs from the ideal case of free Brownian diffusion we considered above in several key aspects:\n",
    "\n",
    "* diffusion may have an active component. Like Brownian motion **active diffusion** is random, however on top of the random \"kicks\" from the surrounding agitation of fluid molecules by temperature, particles experience additional  random \"kicks\" caused by active processes, enhancing particle displacements. Within the cytosol processes such as polymerization of cytoskeletal fibers and the movement of motor proteins along randomly organized cytoskeletal fibers have been suggested as possible sources for active diffusion (Brangwynne et al. 2009). Active diffusion will result in enhanced diffusivity of particles, which prevents direct calculation of viscosity from the MSD without additional experimental measures.\n",
    "* diffusion may be **anomalous**, so that instead of increasing linearly with time MSD over time will follow a power law\n",
    "\n",
    "$$ \\langle \\Delta x^2 \\rangle =\\alpha \\Delta t^\\beta $$\n",
    "\n",
    "\n",
    "with $\\beta$ the **anomalous exponent**. Anomalous diffusion with an exponent $\\beta$<1 is termed subdiffusion, with $\\beta$>1 superdiffusion. Superdiffusion may be caused by active transport of particles along the cytoskeleton, while subdiffusion may be the result of extreme crowding of the tracked particle. Visually, the MSD plots would look like:"
   ]
  },
  {
   "cell_type": "code",
   "execution_count": 6,
   "metadata": {},
   "outputs": [
    {
     "data": {
      "image/png": "[encoded data removed]",
      "text/plain": [
       "<Figure size 864x432 with 2 Axes>"
      ]
     },
     "metadata": {
      "needs_background": "light"
     },
     "output_type": "display_data"
    }
   ],
   "source": [
    "D = 1 #[um2/s]\n",
    "beta1 = 0.5\n",
    "beta2 = 2.0\n",
    "deltat = np.linspace(dt, 100*dt,100)\n",
    "\n",
    "fig, (ax, ax2) = plt.subplots(1,2,figsize = (12,6)) \n",
    "ax.plot(deltat,4*D*deltat,label = 'linear (Brownian)')\n",
    "ax.plot(deltat,(4*D*deltat)**beta1,label = 'subdiffusive')\n",
    "ax.plot(deltat,(4*D*deltat)**beta2,label = 'superdiffusive')\n",
    "ax.legend(loc=0, prop={'size': 12})\n",
    "\n",
    "ax2.plot(deltat,4*D*deltat,label = 'linear (Brownian)')\n",
    "ax2.plot(deltat,(4*D*deltat)**beta1,label = 'subdiffusive')\n",
    "ax2.plot(deltat,(4*D*deltat)**beta2,label = 'superdiffusive')\n",
    "ax2.legend(loc=0, prop={'size': 12})\n",
    "\n",
    "ax.set(ylabel=r'$\\langle \\Delta r^2 \\rangle$ [$\\mu$m$^2$]',\n",
    "        xlabel='lag time $\\Delta t$ [s]')\n",
    "ax2.set(ylabel=r'$\\langle \\Delta r^2 \\rangle$ [$\\mu$m$^2$]',\n",
    "        xlabel='lag time $\\Delta t$ [s]')\n",
    "ax2.set_xscale('log')\n",
    "ax2.set_yscale('log')\n",
    "plt.show()"
   ]
  },
  {
   "cell_type": "markdown",
   "metadata": {},
   "source": [
    "* the cytoplasm is non-homogeneous, so that the viscosity experienced by particles may change with particle size. This can be tested experimentally by tracking particles of several sizes.\n",
    "\n",
    "* particles are confined globally by the cell membrane, and often also locally by crowding or intracellular structures. As long as diffusion of the particle is not anomalous, the MSD will increase linearly with time, but after a certain lag time the curves will saturate to a maximum value $\\langle \\Delta r^2 \\rangle_\\mathrm{max}$. SPT can help in characterizing crowding and ultrastructure of the cytoplasm, as the size of the confinement \"cage\" or \"corral\" the particle is experiencing can be extracted as\n",
    "\n",
    "$$ d_c = d_p + 2  \\sqrt{\\langle \\Delta r^2 \\rangle_\\mathrm{max}} $$,\n",
    "\n",
    "assuming a spherical cage with $d_c$ the corral diameter, and $d_p$ the particle diameter. "
   ]
  },
  {
   "cell_type": "markdown",
   "metadata": {},
   "source": [
    "\n",
    "### 5. Mean square displacement (MSD) in bounded case"
   ]
  },
  {
   "cell_type": "markdown",
   "metadata": {},
   "source": [
    "For the simulations, we constrain motion to a square box, of side $2 L$, and look at the behavior of the MSD. In our simulations the particles have effectively a size 0 (so the parameter $d_p$ does not play a role here)."
   ]
  },
  {
   "cell_type": "code",
   "execution_count": 7,
   "metadata": {
    "scrolled": false
   },
   "outputs": [
    {
     "data": {
      "application/vnd.jupyter.widget-view+json": {
       "model_id": "5f5588af7e6843c6a5bc0b1fdf9f981f",
       "version_major": 2,
       "version_minor": 0
      },
      "text/plain": [
       "HBox(children=(VBox(children=(IntSlider(value=1, description='number part. $N$', max=50, min=1, style=SliderSt…"
      ]
     },
     "metadata": {},
     "output_type": "display_data"
    },
    {
     "data": {
      "application/vnd.jupyter.widget-view+json": {
       "model_id": "42351b0f5a1347c89dc78bde291e2b43",
       "version_major": 2,
       "version_minor": 0
      },
      "text/plain": [
       "Output()"
      ]
     },
     "metadata": {},
     "output_type": "display_data"
    }
   ],
   "source": [
    "# Creation of buttons and sliders\n",
    "style = {'description_width': 'initial'}\n",
    "N_s = widgets.IntSlider(description = 'number part. $N$', style = style, min=1, max=50, step=1, value=1)\n",
    "D_s = widgets.FloatSlider(description = 'Diffusivity $D$ ($\\mu$m$^2$s$^{-1}$)', style = style, min=0.01, max=5, step=0.01, value=2.0)\n",
    "Tf_s = widgets.FloatSlider(description = 'duration $t_\\mathrm{f}$ (s)', style = style, min=0.1, max=10, step=0.1, value=3)\n",
    "L_s = widgets.FloatSlider(description = 'box half width $L$ ($\\mu$m)', style = style, min=0.5, max=20, step=0.5, value=2)\n",
    "refresh_b = widgets.ToggleButton(value=False,description='Refresh',disabled=False,button_style='success', tooltip='Description',icon='')\n",
    "logscale_b = widgets.ToggleButton(value=False,description='MSD Log scale',disabled=False,button_style='', tooltip='Description',icon='')\n",
    "\n",
    "# We organise them spatially\n",
    "left_box = VBox([N_s,D_s, Tf_s])\n",
    "right_box = VBox([L_s, refresh_b, logscale_b])\n",
    "widgets_box = HBox([left_box, right_box])\n",
    "\n",
    "# Launch the plot and display with buttoms/sliders\n",
    "out = interactive_output(plot_tracks_MSD_box, \n",
    "                         {'N': N_s, 'D': D_s, 'Tf': Tf_s, 'L':L_s, 'refresh':refresh_b, 'log_scale':logscale_b})\n",
    "display(widgets_box, out)"
   ]
  },
  {
   "cell_type": "markdown",
   "metadata": {},
   "source": [
    "The MSD plot on the right shows two components: in the initial part free diffusion dominates, causing a linear increase of MSD with time, in the second part of the curve the corral blocks free diffusion of the particle, causing the curve to saturate. With sufficiently large $N$ and $t_f$, both viscosity and corral size can be extracted from the MSD plot."
   ]
  },
  {
   "cell_type": "markdown",
   "metadata": {},
   "source": [
    "## SPT example from living cells\n",
    "\n",
    "Below are videos of GEM particles (genetically encoded multimeric nanoparticles: Delarue et al. 2018) with a diameter of 40nm tracked in HeLa cells. The first movie shows the GEMs diffusing inside the cytosol, the second movie shows the particles tracked with Trackpy. Individual tracks are visualized in the image below the videos."
   ]
  },
  {
   "cell_type": "code",
   "execution_count": 8,
   "metadata": {},
   "outputs": [
    {
     "data": {
      "text/html": [
       "<video src=\"videos/GEMS_HeLa_01001-1 (Converted).mov\" controls  >\n",
       "      Your browser does not support the <code>video</code> element.\n",
       "    </video>"
      ],
      "text/plain": [
       "<IPython.core.display.Video object>"
      ]
     },
     "execution_count": 8,
     "metadata": {},
     "output_type": "execute_result"
    }
   ],
   "source": [
    "Video(\"videos/GEMS_HeLa_01001-1 (Converted).mov\")"
   ]
  },
  {
   "cell_type": "code",
   "execution_count": 9,
   "metadata": {},
   "outputs": [
    {
     "data": {
      "text/html": [
       "\n",
       "<video width=\"600\" controls>\n",
       "  <source src=\"videos/particleSize=5_minmass=125_minsize=0-Copy1.7_maxpath=10.0_mintrack=10_memory=2_short.mp4\" type=\"video/mp4\">\n",
       "</video>\n"
      ],
      "text/plain": [
       "<IPython.core.display.HTML object>"
      ]
     },
     "execution_count": 9,
     "metadata": {},
     "output_type": "execute_result"
    }
   ],
   "source": [
    "HTML(\"\"\"\n",
    "<video width=\"600\" controls>\n",
    "  <source src=\"videos/particleSize=5_minmass=125_minsize=0-Copy1.7_maxpath=10.0_mintrack=10_memory=2_short.mp4\" type=\"video/mp4\">\n",
    "</video>\n",
    "\"\"\")"
   ]
  },
  {
   "cell_type": "markdown",
   "metadata": {},
   "source": [
    "\n",
    "\n",
    "The particle tracks can be visualized individually:\n",
    "\n",
    "<img src=\"images/GEMS_HeLa_directed.png\" alt=\"Drawing\" style=\"width: 700px;\"/> \n",
    "\n",
    "\n",
    "\n",
    "\n"
   ]
  },
  {
   "cell_type": "code",
   "execution_count": null,
   "metadata": {},
   "outputs": [],
   "source": []
  }
 ],
 "metadata": {
  "kernelspec": {
   "display_name": "Python 3",
   "language": "python",
   "name": "python3"
  },
  "language_info": {
   "codemirror_mode": {
    "name": "ipython",
    "version": 3
   },
   "file_extension": ".py",
   "mimetype": "text/x-python",
   "name": "python",
   "nbconvert_exporter": "python",
   "pygments_lexer": "ipython3",
   "version": "3.7.3"
  }
 },
 "nbformat": 4,
 "nbformat_minor": 2
}
